{
 "cells": [
  {
   "cell_type": "code",
   "execution_count": 4,
   "id": "44fe62af",
   "metadata": {},
   "outputs": [],
   "source": [
    "import pandas as pd\n",
    "import matplotlib.pyplot as plt\n",
    "import numpy as np\n",
    "import sklearn\n",
    "from sklearn.linear_model import LinearRegression\n",
    "from sklearn.preprocessing import scale"
   ]
  },
  {
   "cell_type": "code",
   "execution_count": 5,
   "id": "e2db4dfd",
   "metadata": {},
   "outputs": [
    {
     "ename": "FileNotFoundError",
     "evalue": "[Errno 2] No such file or directory: 'data-police-shootings/fatal-police-shootings-data.csv'",
     "output_type": "error",
     "traceback": [
      "\u001b[1;31m---------------------------------------------------------------------------\u001b[0m",
      "\u001b[1;31mFileNotFoundError\u001b[0m                         Traceback (most recent call last)",
      "\u001b[1;32m~\\AppData\\Local\\Temp/ipykernel_17888/3208005976.py\u001b[0m in \u001b[0;36m<module>\u001b[1;34m\u001b[0m\n\u001b[1;32m----> 1\u001b[1;33m \u001b[0mdf\u001b[0m \u001b[1;33m=\u001b[0m \u001b[0mpd\u001b[0m\u001b[1;33m.\u001b[0m\u001b[0mread_csv\u001b[0m\u001b[1;33m(\u001b[0m\u001b[1;34m'data-police-shootings/fatal-police-shootings-data.csv'\u001b[0m\u001b[1;33m)\u001b[0m\u001b[1;33m\u001b[0m\u001b[1;33m\u001b[0m\u001b[0m\n\u001b[0m\u001b[0;32m      2\u001b[0m \u001b[0mgendermask\u001b[0m \u001b[1;33m=\u001b[0m  \u001b[0mdf\u001b[0m\u001b[1;33m[\u001b[0m\u001b[1;34m'gender'\u001b[0m\u001b[1;33m]\u001b[0m\u001b[1;33m.\u001b[0m\u001b[0misnull\u001b[0m\u001b[1;33m(\u001b[0m\u001b[1;33m)\u001b[0m\u001b[1;33m\u001b[0m\u001b[1;33m\u001b[0m\u001b[0m\n\u001b[0;32m      3\u001b[0m \u001b[0mracemask\u001b[0m \u001b[1;33m=\u001b[0m  \u001b[0mdf\u001b[0m\u001b[1;33m[\u001b[0m\u001b[1;34m'race'\u001b[0m\u001b[1;33m]\u001b[0m\u001b[1;33m.\u001b[0m\u001b[0misnull\u001b[0m\u001b[1;33m(\u001b[0m\u001b[1;33m)\u001b[0m\u001b[1;33m\u001b[0m\u001b[1;33m\u001b[0m\u001b[0m\n\u001b[0;32m      4\u001b[0m \u001b[0mthreatmask\u001b[0m \u001b[1;33m=\u001b[0m  \u001b[0mdf\u001b[0m\u001b[1;33m[\u001b[0m\u001b[1;34m'threat_level'\u001b[0m\u001b[1;33m]\u001b[0m\u001b[1;33m.\u001b[0m\u001b[0misnull\u001b[0m\u001b[1;33m(\u001b[0m\u001b[1;33m)\u001b[0m \u001b[1;33m|\u001b[0m \u001b[1;33m(\u001b[0m\u001b[0mdf\u001b[0m\u001b[1;33m[\u001b[0m\u001b[1;34m'threat_level'\u001b[0m\u001b[1;33m]\u001b[0m \u001b[1;33m==\u001b[0m \u001b[1;34m'other'\u001b[0m\u001b[1;33m)\u001b[0m\u001b[1;33m\u001b[0m\u001b[1;33m\u001b[0m\u001b[0m\n\u001b[0;32m      5\u001b[0m \u001b[0mfleemask\u001b[0m \u001b[1;33m=\u001b[0m  \u001b[0mdf\u001b[0m\u001b[1;33m[\u001b[0m\u001b[1;34m'flee'\u001b[0m\u001b[1;33m]\u001b[0m\u001b[1;33m.\u001b[0m\u001b[0misnull\u001b[0m\u001b[1;33m(\u001b[0m\u001b[1;33m)\u001b[0m\u001b[1;33m\u001b[0m\u001b[1;33m\u001b[0m\u001b[0m\n",
      "\u001b[1;32m~\\anaconda3\\Anaconda\\lib\\site-packages\\pandas\\util\\_decorators.py\u001b[0m in \u001b[0;36mwrapper\u001b[1;34m(*args, **kwargs)\u001b[0m\n\u001b[0;32m    309\u001b[0m                     \u001b[0mstacklevel\u001b[0m\u001b[1;33m=\u001b[0m\u001b[0mstacklevel\u001b[0m\u001b[1;33m,\u001b[0m\u001b[1;33m\u001b[0m\u001b[1;33m\u001b[0m\u001b[0m\n\u001b[0;32m    310\u001b[0m                 )\n\u001b[1;32m--> 311\u001b[1;33m             \u001b[1;32mreturn\u001b[0m \u001b[0mfunc\u001b[0m\u001b[1;33m(\u001b[0m\u001b[1;33m*\u001b[0m\u001b[0margs\u001b[0m\u001b[1;33m,\u001b[0m \u001b[1;33m**\u001b[0m\u001b[0mkwargs\u001b[0m\u001b[1;33m)\u001b[0m\u001b[1;33m\u001b[0m\u001b[1;33m\u001b[0m\u001b[0m\n\u001b[0m\u001b[0;32m    312\u001b[0m \u001b[1;33m\u001b[0m\u001b[0m\n\u001b[0;32m    313\u001b[0m         \u001b[1;32mreturn\u001b[0m \u001b[0mwrapper\u001b[0m\u001b[1;33m\u001b[0m\u001b[1;33m\u001b[0m\u001b[0m\n",
      "\u001b[1;32m~\\anaconda3\\Anaconda\\lib\\site-packages\\pandas\\io\\parsers\\readers.py\u001b[0m in \u001b[0;36mread_csv\u001b[1;34m(filepath_or_buffer, sep, delimiter, header, names, index_col, usecols, squeeze, prefix, mangle_dupe_cols, dtype, engine, converters, true_values, false_values, skipinitialspace, skiprows, skipfooter, nrows, na_values, keep_default_na, na_filter, verbose, skip_blank_lines, parse_dates, infer_datetime_format, keep_date_col, date_parser, dayfirst, cache_dates, iterator, chunksize, compression, thousands, decimal, lineterminator, quotechar, quoting, doublequote, escapechar, comment, encoding, encoding_errors, dialect, error_bad_lines, warn_bad_lines, on_bad_lines, delim_whitespace, low_memory, memory_map, float_precision, storage_options)\u001b[0m\n\u001b[0;32m    584\u001b[0m     \u001b[0mkwds\u001b[0m\u001b[1;33m.\u001b[0m\u001b[0mupdate\u001b[0m\u001b[1;33m(\u001b[0m\u001b[0mkwds_defaults\u001b[0m\u001b[1;33m)\u001b[0m\u001b[1;33m\u001b[0m\u001b[1;33m\u001b[0m\u001b[0m\n\u001b[0;32m    585\u001b[0m \u001b[1;33m\u001b[0m\u001b[0m\n\u001b[1;32m--> 586\u001b[1;33m     \u001b[1;32mreturn\u001b[0m \u001b[0m_read\u001b[0m\u001b[1;33m(\u001b[0m\u001b[0mfilepath_or_buffer\u001b[0m\u001b[1;33m,\u001b[0m \u001b[0mkwds\u001b[0m\u001b[1;33m)\u001b[0m\u001b[1;33m\u001b[0m\u001b[1;33m\u001b[0m\u001b[0m\n\u001b[0m\u001b[0;32m    587\u001b[0m \u001b[1;33m\u001b[0m\u001b[0m\n\u001b[0;32m    588\u001b[0m \u001b[1;33m\u001b[0m\u001b[0m\n",
      "\u001b[1;32m~\\anaconda3\\Anaconda\\lib\\site-packages\\pandas\\io\\parsers\\readers.py\u001b[0m in \u001b[0;36m_read\u001b[1;34m(filepath_or_buffer, kwds)\u001b[0m\n\u001b[0;32m    480\u001b[0m \u001b[1;33m\u001b[0m\u001b[0m\n\u001b[0;32m    481\u001b[0m     \u001b[1;31m# Create the parser.\u001b[0m\u001b[1;33m\u001b[0m\u001b[1;33m\u001b[0m\u001b[0m\n\u001b[1;32m--> 482\u001b[1;33m     \u001b[0mparser\u001b[0m \u001b[1;33m=\u001b[0m \u001b[0mTextFileReader\u001b[0m\u001b[1;33m(\u001b[0m\u001b[0mfilepath_or_buffer\u001b[0m\u001b[1;33m,\u001b[0m \u001b[1;33m**\u001b[0m\u001b[0mkwds\u001b[0m\u001b[1;33m)\u001b[0m\u001b[1;33m\u001b[0m\u001b[1;33m\u001b[0m\u001b[0m\n\u001b[0m\u001b[0;32m    483\u001b[0m \u001b[1;33m\u001b[0m\u001b[0m\n\u001b[0;32m    484\u001b[0m     \u001b[1;32mif\u001b[0m \u001b[0mchunksize\u001b[0m \u001b[1;32mor\u001b[0m \u001b[0miterator\u001b[0m\u001b[1;33m:\u001b[0m\u001b[1;33m\u001b[0m\u001b[1;33m\u001b[0m\u001b[0m\n",
      "\u001b[1;32m~\\anaconda3\\Anaconda\\lib\\site-packages\\pandas\\io\\parsers\\readers.py\u001b[0m in \u001b[0;36m__init__\u001b[1;34m(self, f, engine, **kwds)\u001b[0m\n\u001b[0;32m    809\u001b[0m             \u001b[0mself\u001b[0m\u001b[1;33m.\u001b[0m\u001b[0moptions\u001b[0m\u001b[1;33m[\u001b[0m\u001b[1;34m\"has_index_names\"\u001b[0m\u001b[1;33m]\u001b[0m \u001b[1;33m=\u001b[0m \u001b[0mkwds\u001b[0m\u001b[1;33m[\u001b[0m\u001b[1;34m\"has_index_names\"\u001b[0m\u001b[1;33m]\u001b[0m\u001b[1;33m\u001b[0m\u001b[1;33m\u001b[0m\u001b[0m\n\u001b[0;32m    810\u001b[0m \u001b[1;33m\u001b[0m\u001b[0m\n\u001b[1;32m--> 811\u001b[1;33m         \u001b[0mself\u001b[0m\u001b[1;33m.\u001b[0m\u001b[0m_engine\u001b[0m \u001b[1;33m=\u001b[0m \u001b[0mself\u001b[0m\u001b[1;33m.\u001b[0m\u001b[0m_make_engine\u001b[0m\u001b[1;33m(\u001b[0m\u001b[0mself\u001b[0m\u001b[1;33m.\u001b[0m\u001b[0mengine\u001b[0m\u001b[1;33m)\u001b[0m\u001b[1;33m\u001b[0m\u001b[1;33m\u001b[0m\u001b[0m\n\u001b[0m\u001b[0;32m    812\u001b[0m \u001b[1;33m\u001b[0m\u001b[0m\n\u001b[0;32m    813\u001b[0m     \u001b[1;32mdef\u001b[0m \u001b[0mclose\u001b[0m\u001b[1;33m(\u001b[0m\u001b[0mself\u001b[0m\u001b[1;33m)\u001b[0m\u001b[1;33m:\u001b[0m\u001b[1;33m\u001b[0m\u001b[1;33m\u001b[0m\u001b[0m\n",
      "\u001b[1;32m~\\anaconda3\\Anaconda\\lib\\site-packages\\pandas\\io\\parsers\\readers.py\u001b[0m in \u001b[0;36m_make_engine\u001b[1;34m(self, engine)\u001b[0m\n\u001b[0;32m   1038\u001b[0m             )\n\u001b[0;32m   1039\u001b[0m         \u001b[1;31m# error: Too many arguments for \"ParserBase\"\u001b[0m\u001b[1;33m\u001b[0m\u001b[1;33m\u001b[0m\u001b[0m\n\u001b[1;32m-> 1040\u001b[1;33m         \u001b[1;32mreturn\u001b[0m \u001b[0mmapping\u001b[0m\u001b[1;33m[\u001b[0m\u001b[0mengine\u001b[0m\u001b[1;33m]\u001b[0m\u001b[1;33m(\u001b[0m\u001b[0mself\u001b[0m\u001b[1;33m.\u001b[0m\u001b[0mf\u001b[0m\u001b[1;33m,\u001b[0m \u001b[1;33m**\u001b[0m\u001b[0mself\u001b[0m\u001b[1;33m.\u001b[0m\u001b[0moptions\u001b[0m\u001b[1;33m)\u001b[0m  \u001b[1;31m# type: ignore[call-arg]\u001b[0m\u001b[1;33m\u001b[0m\u001b[1;33m\u001b[0m\u001b[0m\n\u001b[0m\u001b[0;32m   1041\u001b[0m \u001b[1;33m\u001b[0m\u001b[0m\n\u001b[0;32m   1042\u001b[0m     \u001b[1;32mdef\u001b[0m \u001b[0m_failover_to_python\u001b[0m\u001b[1;33m(\u001b[0m\u001b[0mself\u001b[0m\u001b[1;33m)\u001b[0m\u001b[1;33m:\u001b[0m\u001b[1;33m\u001b[0m\u001b[1;33m\u001b[0m\u001b[0m\n",
      "\u001b[1;32m~\\anaconda3\\Anaconda\\lib\\site-packages\\pandas\\io\\parsers\\c_parser_wrapper.py\u001b[0m in \u001b[0;36m__init__\u001b[1;34m(self, src, **kwds)\u001b[0m\n\u001b[0;32m     49\u001b[0m \u001b[1;33m\u001b[0m\u001b[0m\n\u001b[0;32m     50\u001b[0m         \u001b[1;31m# open handles\u001b[0m\u001b[1;33m\u001b[0m\u001b[1;33m\u001b[0m\u001b[0m\n\u001b[1;32m---> 51\u001b[1;33m         \u001b[0mself\u001b[0m\u001b[1;33m.\u001b[0m\u001b[0m_open_handles\u001b[0m\u001b[1;33m(\u001b[0m\u001b[0msrc\u001b[0m\u001b[1;33m,\u001b[0m \u001b[0mkwds\u001b[0m\u001b[1;33m)\u001b[0m\u001b[1;33m\u001b[0m\u001b[1;33m\u001b[0m\u001b[0m\n\u001b[0m\u001b[0;32m     52\u001b[0m         \u001b[1;32massert\u001b[0m \u001b[0mself\u001b[0m\u001b[1;33m.\u001b[0m\u001b[0mhandles\u001b[0m \u001b[1;32mis\u001b[0m \u001b[1;32mnot\u001b[0m \u001b[1;32mNone\u001b[0m\u001b[1;33m\u001b[0m\u001b[1;33m\u001b[0m\u001b[0m\n\u001b[0;32m     53\u001b[0m \u001b[1;33m\u001b[0m\u001b[0m\n",
      "\u001b[1;32m~\\anaconda3\\Anaconda\\lib\\site-packages\\pandas\\io\\parsers\\base_parser.py\u001b[0m in \u001b[0;36m_open_handles\u001b[1;34m(self, src, kwds)\u001b[0m\n\u001b[0;32m    220\u001b[0m         \u001b[0mLet\u001b[0m \u001b[0mthe\u001b[0m \u001b[0mreaders\u001b[0m \u001b[0mopen\u001b[0m \u001b[0mIOHandles\u001b[0m \u001b[0mafter\u001b[0m \u001b[0mthey\u001b[0m \u001b[0mare\u001b[0m \u001b[0mdone\u001b[0m \u001b[1;32mwith\u001b[0m \u001b[0mtheir\u001b[0m \u001b[0mpotential\u001b[0m \u001b[0mraises\u001b[0m\u001b[1;33m.\u001b[0m\u001b[1;33m\u001b[0m\u001b[1;33m\u001b[0m\u001b[0m\n\u001b[0;32m    221\u001b[0m         \"\"\"\n\u001b[1;32m--> 222\u001b[1;33m         self.handles = get_handle(\n\u001b[0m\u001b[0;32m    223\u001b[0m             \u001b[0msrc\u001b[0m\u001b[1;33m,\u001b[0m\u001b[1;33m\u001b[0m\u001b[1;33m\u001b[0m\u001b[0m\n\u001b[0;32m    224\u001b[0m             \u001b[1;34m\"r\"\u001b[0m\u001b[1;33m,\u001b[0m\u001b[1;33m\u001b[0m\u001b[1;33m\u001b[0m\u001b[0m\n",
      "\u001b[1;32m~\\anaconda3\\Anaconda\\lib\\site-packages\\pandas\\io\\common.py\u001b[0m in \u001b[0;36mget_handle\u001b[1;34m(path_or_buf, mode, encoding, compression, memory_map, is_text, errors, storage_options)\u001b[0m\n\u001b[0;32m    700\u001b[0m         \u001b[1;32mif\u001b[0m \u001b[0mioargs\u001b[0m\u001b[1;33m.\u001b[0m\u001b[0mencoding\u001b[0m \u001b[1;32mand\u001b[0m \u001b[1;34m\"b\"\u001b[0m \u001b[1;32mnot\u001b[0m \u001b[1;32min\u001b[0m \u001b[0mioargs\u001b[0m\u001b[1;33m.\u001b[0m\u001b[0mmode\u001b[0m\u001b[1;33m:\u001b[0m\u001b[1;33m\u001b[0m\u001b[1;33m\u001b[0m\u001b[0m\n\u001b[0;32m    701\u001b[0m             \u001b[1;31m# Encoding\u001b[0m\u001b[1;33m\u001b[0m\u001b[1;33m\u001b[0m\u001b[0m\n\u001b[1;32m--> 702\u001b[1;33m             handle = open(\n\u001b[0m\u001b[0;32m    703\u001b[0m                 \u001b[0mhandle\u001b[0m\u001b[1;33m,\u001b[0m\u001b[1;33m\u001b[0m\u001b[1;33m\u001b[0m\u001b[0m\n\u001b[0;32m    704\u001b[0m                 \u001b[0mioargs\u001b[0m\u001b[1;33m.\u001b[0m\u001b[0mmode\u001b[0m\u001b[1;33m,\u001b[0m\u001b[1;33m\u001b[0m\u001b[1;33m\u001b[0m\u001b[0m\n",
      "\u001b[1;31mFileNotFoundError\u001b[0m: [Errno 2] No such file or directory: 'data-police-shootings/fatal-police-shootings-data.csv'"
     ]
    }
   ],
   "source": [
    "\n",
    "df = pd.read_csv('data-police-shootings/fatal-police-shootings-data.csv')\n",
    "gendermask =  df['gender'].isnull()\n",
    "racemask =  df['race'].isnull()\n",
    "threatmask =  df['threat_level'].isnull() | (df['threat_level'] == 'other')\n",
    "fleemask =  df['flee'].isnull()\n",
    "armedmask = df['armed'].isnull()\n",
    "agemask = df['age'].isnull()\n",
    "nonthreatmask = ~(df['threat_level'].isnull()) | (df['threat_level'] == 'other')\n",
    "clean_df = df[~gendermask & ~racemask & ~threatmask & ~fleemask & ~armedmask & ~agemask]\n",
    "black_unarmed = clean_df[(clean_df['race'] == 'B') & (clean_df['armed'] == 'unarmed')]\n",
    "white_unarmed = clean_df[(clean_df['race'] == 'W') & (clean_df['armed']== 'unarmed')]\n",
    "asian_unarmed = clean_df[(clean_df['race'] == 'A') & (clean_df['armed']== 'unarmed')]\n",
    "native_unarmed = clean_df[(clean_df['race'] == 'N') & (clean_df['armed']== 'unarmed')]\n",
    "hispanic_unarmed = clean_df[(clean_df['race'] == 'H') & (clean_df['armed']== 'unarmed')]\n",
    "\n",
    "black_armed = clean_df[(clean_df['race'] == 'B') & ~(clean_df['armed'] == 'unarmed')]\n",
    "\n",
    "black_unarmed\n",
    "clean_df = clean_df.drop(['longitude','latitude','is_geocoding_exact','name','id','city','state'], axis=1)\n",
    "clean_df\n",
    "pd.get_dummies(clean_df)\n",
    "clean_df.describe()\n",
    "\n",
    "#not armed mask \n",
    "# unarmed = ~(non_threat['armed'] == 'unarmed')\n",
    "c = df.copy()[~gendermask & ~racemask & ~fleemask & ~armedmask & ~agemask]\n",
    "non_threat = df[~gendermask & ~racemask & ~fleemask & ~armedmask & ~agemask]\n",
    "non_threat = non_threat.drop(['longitude','latitude','is_geocoding_exact','name','id','city','state'], axis=1)\n",
    "unarmed = ~(non_threat['armed'] == 'unarmed')\n",
    "othermask = ~(non_threat['race'] == 'O')\n",
    "\n",
    "non_threat_unarmed = non_threat[~non_threat['threat_level'].str.contains('attack')]\n",
    "non_threat_unarmed = non_threat_unarmed[othermask]\n",
    "\n",
    "non_threat_unarmed = non_threat_unarmed[~unarmed].reset_index(drop=True)\n",
    "\n",
    "# non_threat.drop(['longitude','latitude','is_geocoding_exact','name','id','city','state'], axis=1)\n",
    "# clean_df[~clean_df['threat_level'].str.contains('attack')].reset_index(drop=True)\n",
    "c[~c['threat_level'].str.contains('attack')].reset_index(drop=True)\n",
    "\n",
    "non_threat_unarmed.insert(0,'deaths', range(1,len(non_threat_unarmed)+1))\n",
    "non_threat_unarmed['deaths1'] = (non_threat_unarmed['race'] != non_threat_unarmed['race'].shift(1)).cumsum()\n",
    "non_threat_unarmed['y'] = non_threat_unarmed.groupby('race').cumcount()+1\n",
    "len(non_threat_unarmed)\n",
    "# non_threat_unarmed.index = non_threat_unarmed.index + 1\n",
    "non_threat_unarmed.to_csv('non_threat_unarmed.csv')\n",
    "non_threat_unarmed.dtypes\n",
    "races = ['H','W','B','A','N','O']\n",
    "    \n",
    "\n",
    "# clean_df\n",
    "# df2.reset_index(drop=True)\n",
    "# df[threatmask]"
   ]
  },
  {
   "cell_type": "code",
   "execution_count": null,
   "id": "ce537b13",
   "metadata": {},
   "outputs": [],
   "source": [
    "from datetime import datetime\n",
    "from sklearn.model_selection import train_test_split\n",
    "from sklearn.linear_model import LinearRegression\n",
    "clean_df['date'] = pd.to_datetime(clean_df['date'])\n",
    "type(clean_df['date'])\n",
    "type(clean_df['date'].loc[0])\n",
    "clean_df.dtypes\n",
    "start = '2015-01-01'\n",
    "end = '2018-01-01'\n",
    "cond = (clean_df['date'] > start) & (df['date'] <= end)\n",
    "clean_df.loc[cond]\n",
    "#clean_df['age'].describe()"
   ]
  },
  {
   "cell_type": "code",
   "execution_count": null,
   "id": "9718c986",
   "metadata": {},
   "outputs": [],
   "source": [
    "import seaborn as sns\n",
    "import matplotlib.pyplot as plt\n",
    "%matplotlib inline\n",
    "\n",
    "# clean_df.corr(method='pearson')\n",
    "print(clean_df.corr())\n",
    "clean_df.dtypes\n",
    "clean_df['manner_of_death'] = clean_df['manner_of_death'].astype('str')\n",
    "clean_df['gender'] = clean_df['gender'].astype('str')\n",
    "clean_df['race'] = clean_df['race'].astype('str')\n",
    "clean_df['armed'] = clean_df['armed'].astype('str')\n",
    "clean_df['flee'] = clean_df['flee'].astype('str')\n",
    "clean_df['threat_level'] = clean_df['threat_level'].astype('str')\n",
    "# clean_df['death_by']\n",
    "clean_df"
   ]
  },
  {
   "cell_type": "code",
   "execution_count": null,
   "id": "ab60eb5f",
   "metadata": {},
   "outputs": [],
   "source": [
    "pd.get_dummies(clean_df['race'].head(10))\n",
    "X = clean_df[['race','gender','age']]\n",
    "Y = clean_df['armed']"
   ]
  },
  {
   "cell_type": "code",
   "execution_count": null,
   "id": "0be868db",
   "metadata": {},
   "outputs": [],
   "source": [
    "\n",
    "non_threat_unarmed.shape\n",
    "non_threat_unarmed.head()\n",
    "sns.set_style('dark')"
   ]
  },
  {
   "cell_type": "code",
   "execution_count": null,
   "id": "a2702f9a",
   "metadata": {},
   "outputs": [],
   "source": [
    "fig, ax = plt.subplots(1, 2, figsize=(10,5), sharey=True)\n",
    "races = ['A','B','H','N','W',]\n",
    "y = non_threat_unarmed.groupby(['race']).deaths.count()\n",
    "x = pd.Series(races)\n",
    "\n",
    "# ax[0].bar(x,y)\n",
    "# ax[1].scatter(x,y)\n",
    "ax[0].bar(non_threat_unarmed.race,non_threat_unarmed.deaths1)\n",
    "ax[1].scatter(x,y)\n",
    "\n",
    "u = non_threat_unarmed.drop(['date'],axis=1)\n",
    "\n",
    "\n",
    "non_threat_unarmed\n",
    "u = pd.get_dummies(u,drop_first=True)\n",
    "u.corr()\n",
    "plt.figure(figsize=(12,10))\n",
    "u_x = u.drop('y',axis=1)\n",
    "u_y = u.y\n",
    "sns.heatmap(u_x.corr(),annot = True)\n",
    "\n",
    "# x_train, x_test, y_train, y_test = test_train_split()\n",
    "    "
   ]
  },
  {
   "cell_type": "code",
   "execution_count": null,
   "id": "785d5c52",
   "metadata": {},
   "outputs": [],
   "source": [
    "\n",
    "from sklearn.linear_model import LogisticRegression\n",
    "from sklearn.linear_model import LinearRegression\n",
    "from sklearn.model_selection import train_test_split\n",
    "\n",
    "reg = LinearRegression()\n",
    "x_train, x_test, y_train, y_test = train_test_split(u_x,u_y, train_size = .8, random_state = 4)\n",
    "reg.fit(x_train,y_train)\n",
    "reg.coef_\n",
    "reg.predict(x_test)\n",
    "y_train\n",
    "# plt.scatter(x_train, y_train, color = \"red\")\n",
    "# plt.plot(x_train, reg.predict(x_train), color = \"green\")\n",
    "# plt.title(\"Unarmed deaths by police\")\n",
    "# plt.xlabel('race')\n",
    "# plt.ylabel(\"deaths\")\n",
    "# plt.show()\n",
    "# logisticRegr = LogisticRegression()"
   ]
  },
  {
   "cell_type": "code",
   "execution_count": null,
   "id": "a6ceafa7",
   "metadata": {},
   "outputs": [],
   "source": [
    "white_deaths = len(clean_df[clean_df['race'].str.contains('W')])\n",
    "black_deaths = len(clean_df[clean_df['race'].str.contains('B')])\n",
    "native_deaths = len(clean_df[clean_df['race'].str.contains('N')])\n",
    "asian_deaths = len(clean_df[clean_df['race'].str.contains('A')])\n",
    "hispanic_deaths = len(clean_df[clean_df['race'].str.contains('H')])\n",
    "total_deaths = len(clean_df['race'])\n",
    "white_deaths\n",
    "black_deaths\n",
    "native_deaths\n",
    "asian_deaths\n",
    "hispanic_deaths\n",
    "total_deaths\n",
    "mask15 = (non_threat_unarmed['date'] > '2015-01-01' ) & (non_threat_unarmed['date'] < '2016-01-01')\n",
    "mask16 = (non_threat_unarmed['date'] > '2016-01-01' ) & (non_threat_unarmed['date'] < '2017-01-01')\n",
    "mask17 = (non_threat_unarmed['date'] > '2017-01-01' ) & (non_threat_unarmed['date'] < '2018-01-01')\n",
    "mask18 = (non_threat_unarmed['date'] > '2018-01-01' ) & (non_threat_unarmed['date'] < '2019-01-01')\n",
    "mask19 = (non_threat_unarmed['date'] > '2019-01-01' ) & (non_threat_unarmed['date'] < '2020-01-01')\n",
    "mask20 = (non_threat_unarmed['date'] > '2020-01-01' ) & (non_threat_unarmed['date'] < '2021-01-01')\n",
    "mask21 = (non_threat_unarmed['date'] > '2021-01-01' ) & (non_threat_unarmed['date'] < '2022-06-01')\n",
    "\n",
    "print(len(non_threat_unarmed[mask15]))\n",
    "print(len(non_threat_unarmed[mask16]))\n",
    "print(len(non_threat_unarmed[mask17]))\n",
    "print(len(non_threat_unarmed[mask18]))\n",
    "print(len(non_threat_unarmed[mask19]))\n",
    "print(len(non_threat_unarmed[mask20]))\n",
    "print(len(non_threat_unarmed[mask21]))\n",
    "\n"
   ]
  },
  {
   "cell_type": "code",
   "execution_count": null,
   "id": "51fd5f38",
   "metadata": {},
   "outputs": [],
   "source": [
    "#Creating design weight"
   ]
  },
  {
   "cell_type": "code",
   "execution_count": null,
   "id": "887670de",
   "metadata": {},
   "outputs": [],
   "source": [
    "designW = white_deaths/total_deaths\n",
    "designB = black_deaths/total_deaths\n",
    "designN = native_deaths/total_deaths\n",
    "designA = asain_deaths/total_deaths\n",
    "designH = hispanic_deaths/total_deaths"
   ]
  },
  {
   "cell_type": "code",
   "execution_count": null,
   "id": "bbdb63c3",
   "metadata": {},
   "outputs": [],
   "source": []
  }
 ],
 "metadata": {
  "kernelspec": {
   "display_name": "Python 3 (ipykernel)",
   "language": "python",
   "name": "python3"
  },
  "language_info": {
   "codemirror_mode": {
    "name": "ipython",
    "version": 3
   },
   "file_extension": ".py",
   "mimetype": "text/x-python",
   "name": "python",
   "nbconvert_exporter": "python",
   "pygments_lexer": "ipython3",
   "version": "3.9.7"
  }
 },
 "nbformat": 4,
 "nbformat_minor": 5
}
